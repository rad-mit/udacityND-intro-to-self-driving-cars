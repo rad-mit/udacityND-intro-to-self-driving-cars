{
 "cells": [
  {
   "cell_type": "markdown",
   "metadata": {},
   "source": [
    "# Approximating the Integral\n",
    "This notebook is a playground to explore this idea of chopping up a function into rectangles to approximate its integral.\n",
    "\n",
    "After this (in the next notebook) you will actually integrate the elevator accelerometer data you saw before."
   ]
  },
  {
   "cell_type": "markdown",
   "metadata": {},
   "source": [
    "## Part 1 - Visualizing Rectangles"
   ]
  },
  {
   "cell_type": "code",
   "execution_count": 2,
   "metadata": {},
   "outputs": [],
   "source": [
    "from matplotlib import pyplot as plt\n",
    "import numpy as np\n",
    "import warnings\n",
    "warnings.filterwarnings('ignore')"
   ]
  },
  {
   "cell_type": "code",
   "execution_count": 4,
   "metadata": {},
   "outputs": [],
   "source": [
    "def show_approximate_integral(f, t_min, t_max, N):\n",
    "    t = np.linspace(t_min, t_max)\n",
    "    plt.plot(t, f(t))\n",
    "    \n",
    "    delta_t = (t_max - t_min) / N\n",
    "    \n",
    "    print(\"Approximating integral for delta_t =\",delta_t, \"seconds\")\n",
    "    box_t = np.linspace(t_min, t_max, N, endpoint=False)\n",
    "    box_f_of_t = f(box_t)\n",
    "    plt.bar(box_t, box_f_of_t,\n",
    "            width=delta_t,\n",
    "            alpha=0.5,\n",
    "            facecolor=\"orange\",\n",
    "            align=\"edge\",\n",
    "            edgecolor=\"gray\")\n",
    "    plt.show()"
   ]
  },
  {
   "cell_type": "code",
   "execution_count": 5,
   "metadata": {},
   "outputs": [],
   "source": [
    "def f1(t):\n",
    "    return -1.3 * t**3 + 5.3 * t ** 2 + 0.3 * t + 1 "
   ]
  },
  {
   "cell_type": "code",
   "execution_count": 15,
   "metadata": {},
   "outputs": [
    {
     "name": "stdout",
     "output_type": "stream",
     "text": [
      "Approximating integral for delta_t = 0.4 seconds\n"
     ]
    },
    {
     "data": {
      "image/png": "[encoded data removed]",
      "text/plain": [
       "<Figure size 432x288 with 1 Axes>"
      ]
     },
     "metadata": {
      "needs_background": "light"
     },
     "output_type": "display_data"
    }
   ],
   "source": [
    "# TODO - increase N from 2 to 4 to 8 etc... and run\n",
    "#        this cell each time. Notice how the bars \n",
    "#        get closer and closer to approximating \n",
    "#        the true area under the curve.\n",
    "\n",
    "N = 10\n",
    "show_approximate_integral(f1,0,4,N)"
   ]
  },
  {
   "cell_type": "code",
   "execution_count": 7,
   "metadata": {},
   "outputs": [
    {
     "name": "stdout",
     "output_type": "stream",
     "text": [
      "Approximating integral for delta_t = 0.08 seconds\n"
     ]
    },
    {
     "data": {
      "image/png": "[encoded data removed]",
      "text/plain": [
       "<Figure size 432x288 with 1 Axes>"
      ]
     },
     "metadata": {
      "needs_background": "light"
     },
     "output_type": "display_data"
    }
   ],
   "source": [
    "# When N is big, the approximation is PRETTY\n",
    "# close to reality.\n",
    "\n",
    "N = 50\n",
    "show_approximate_integral(f1, 0, 4, N)"
   ]
  },
  {
   "cell_type": "markdown",
   "metadata": {},
   "source": [
    "## Part 2 - Approximating Integrals\n",
    "\n",
    "In this section, you will solve some integration \"homework problems\".\n",
    "\n",
    "These are problems that you would see in a typical calculus textbook (and would be expected to solve **exactly** using clever integration techniques)\n",
    "\n",
    "First, let's take a look at the function you'll be using to perform these approximations!"
   ]
  },
  {
   "cell_type": "code",
   "execution_count": 18,
   "metadata": {},
   "outputs": [],
   "source": [
    "def integral(f, t1, t2, dt=0.1):\n",
    "    # area begins at 0.0 \n",
    "    area = 0.0\n",
    "    \n",
    "    # t starts at the lower bound of integration\n",
    "    t = t1\n",
    "    \n",
    "    # integration continues until we reach upper bound\n",
    "    while t < t2:\n",
    "        \n",
    "        # calculate the TINY bit of area associated with\n",
    "        # this particular rectangle and add to total\n",
    "        dA = f(t) * dt\n",
    "        area += dA\n",
    "        t += dt\n",
    "    return area"
   ]
  },
  {
   "cell_type": "markdown",
   "metadata": {},
   "source": [
    "I'll work through the first example for you.\n",
    "#### Homework 1 - Example\n",
    "\n",
    "Compute the following integral:\n",
    "\n",
    "$$\\int_{2}^{4}t^2dt$$\n",
    "\n",
    "**EXPECTED ANSWER: 18.66**"
   ]
  },
  {
   "cell_type": "code",
   "execution_count": 19,
   "metadata": {},
   "outputs": [],
   "source": [
    "# solution step 1: define the function to be integrated\n",
    "\n",
    "def f1(t):\n",
    "    return t**2"
   ]
  },
  {
   "cell_type": "code",
   "execution_count": 20,
   "metadata": {},
   "outputs": [
    {
     "data": {
      "text/plain": [
       "18.07000000000001"
      ]
     },
     "execution_count": 20,
     "metadata": {},
     "output_type": "execute_result"
    }
   ],
   "source": [
    "# solution step 2: try to solve it...\n",
    "integral(f1, 2, 4)"
   ]
  },
  {
   "cell_type": "markdown",
   "metadata": {},
   "source": [
    "that's pretty close, but I'd like more accuracy. Let's decrease dt from the default value of 0.1..."
   ]
  },
  {
   "cell_type": "code",
   "execution_count": 21,
   "metadata": {},
   "outputs": [
    {
     "data": {
      "text/plain": [
       "18.766699999999705"
      ]
     },
     "execution_count": 21,
     "metadata": {},
     "output_type": "execute_result"
    }
   ],
   "source": [
    "integral(f1,2,4,0.01)"
   ]
  },
  {
   "cell_type": "code",
   "execution_count": 22,
   "metadata": {},
   "outputs": [
    {
     "data": {
      "text/plain": [
       "18.67666699999851"
      ]
     },
     "execution_count": 22,
     "metadata": {},
     "output_type": "execute_result"
    }
   ],
   "source": [
    "integral(f1,2,4,0.001)"
   ]
  },
  {
   "cell_type": "code",
   "execution_count": 23,
   "metadata": {},
   "outputs": [
    {
     "data": {
      "text/plain": [
       "18.666066670028115"
      ]
     },
     "execution_count": 23,
     "metadata": {},
     "output_type": "execute_result"
    }
   ],
   "source": [
    "integral(f1,2,4, 0.0001)"
   ]
  },
  {
   "cell_type": "markdown",
   "metadata": {},
   "source": [
    "Nice! We should probably use this value for dt in future calculations. Before we continue, let's just visualize this integral."
   ]
  },
  {
   "cell_type": "code",
   "execution_count": 24,
   "metadata": {},
   "outputs": [
    {
     "name": "stdout",
     "output_type": "stream",
     "text": [
      "Approximating integral for delta_t = 0.1 seconds\n"
     ]
    },
    {
     "data": {
      "image/png": "[encoded data removed]",
      "text/plain": [
       "<Figure size 432x288 with 1 Axes>"
      ]
     },
     "metadata": {
      "needs_background": "light"
     },
     "output_type": "display_data"
    }
   ],
   "source": [
    "show_approximate_integral(f1,2,4,20)"
   ]
  },
  {
   "cell_type": "markdown",
   "metadata": {},
   "source": [
    "#### Homework 2\n",
    "\n",
    "Compute the following integral\n",
    "\n",
    "$$\\int_{-2}^2 3t^3 - 4t dt$$"
   ]
  },
  {
   "cell_type": "code",
   "execution_count": 37,
   "metadata": {},
   "outputs": [
    {
     "name": "stdout",
     "output_type": "stream",
     "text": [
      "Approximating integral for delta_t = -0.2 seconds\n"
     ]
    },
    {
     "data": {
      "image/png": "[encoded data removed]",
      "text/plain": [
       "<Figure size 432x288 with 1 Axes>"
      ]
     },
     "metadata": {
      "needs_background": "light"
     },
     "output_type": "display_data"
    }
   ],
   "source": [
    "# Your code here\n",
    "def f2(t):\n",
    "    return 3*t**3-4*t\n",
    "\n",
    "integral(f2,2,-2, 0.0001)\n",
    "show_approximate_integral(f2,2,-2,20)\n"
   ]
  },
  {
   "cell_type": "markdown",
   "metadata": {},
   "source": [
    "#### Homework 3 (this one can be tricky)\n",
    "Compute the following integral\n",
    "\n",
    "$$\\int_3^{7} \\frac{1}{\\sqrt{2\\pi\\times0.2}} e^{-\\frac{(t-5)^2}{2 \\times 0.2}}dt$$"
   ]
  },
  {
   "cell_type": "code",
   "execution_count": 66,
   "metadata": {},
   "outputs": [
    {
     "data": {
      "text/plain": [
       "0.9999922557157402"
      ]
     },
     "execution_count": 66,
     "metadata": {},
     "output_type": "execute_result"
    }
   ],
   "source": [
    "# Your code here\n",
    "from math import sqrt, pi\n",
    "\n",
    "def f3(t):\n",
    "    c1 = 1.0 / sqrt(2 * pi * 0.2)\n",
    "    c2 = -(t-5)**2 / (2*0.2)\n",
    "    return c1 * np.exp(c2)\n",
    "\n",
    "integral(f3, 3, 7, 0.001)\n",
    "#show_approximate_integral(f3,7,3,40)\n"
   ]
  },
  {
   "cell_type": "markdown",
   "metadata": {},
   "source": [
    "-----\n",
    "SOLUTIONS\n",
    "\n"
   ]
  },
  {
   "cell_type": "code",
   "execution_count": 67,
   "metadata": {},
   "outputs": [
    {
     "data": {
      "text/plain": [
       "-6.485876072326313e-12"
      ]
     },
     "execution_count": 67,
     "metadata": {},
     "output_type": "execute_result"
    }
   ],
   "source": [
    "# Solution 2\n",
    "def f2(t):\n",
    "    return 3 * t**3 - 4*t\n",
    "\n",
    "integral(f2, -2, 2, 0.0001)"
   ]
  },
  {
   "cell_type": "markdown",
   "metadata": {},
   "source": [
    "This number ends with \"e-12\", which means $\\times 10 ^ {-12}$\n",
    "\n",
    "That means that this integral is 0.00000000000648 (basically zero). This shouldn't be surprising since we integrated symmetrically across an odd function (all the exponents on the t's were odd).\n",
    "\n",
    "This means that for any positive contribution on one side of zero, there's a negative contribution to the total area on the other side of zero."
   ]
  },
  {
   "cell_type": "code",
   "execution_count": 68,
   "metadata": {},
   "outputs": [
    {
     "name": "stdout",
     "output_type": "stream",
     "text": [
      "Approximating integral for delta_t = 0.1 seconds\n"
     ]
    },
    {
     "data": {
      "image/png": "[encoded data removed]",
      "text/plain": [
       "<Figure size 432x288 with 1 Axes>"
      ]
     },
     "metadata": {
      "needs_background": "light"
     },
     "output_type": "display_data"
    }
   ],
   "source": [
    "show_approximate_integral(f2, -2,2,40)"
   ]
  },
  {
   "cell_type": "code",
   "execution_count": 69,
   "metadata": {},
   "outputs": [
    {
     "data": {
      "text/plain": [
       "0.9999922557157402"
      ]
     },
     "execution_count": 69,
     "metadata": {},
     "output_type": "execute_result"
    }
   ],
   "source": [
    "# Solution 3\n",
    "\n",
    "from math import sqrt, pi\n",
    "\n",
    "def f3(t):\n",
    "    coeff    = 1.0 / sqrt(2 * pi * 0.2)\n",
    "    exponent = -(t-5)**2 / (2*0.2)\n",
    "    return coeff * np.exp(exponent)\n",
    "\n",
    "integral(f3, 3, 7, 0.001)"
   ]
  },
  {
   "cell_type": "markdown",
   "metadata": {},
   "source": [
    "That's pretty close to 1! That's because the function I just had you integrate was a Gaussian probability distribution. "
   ]
  },
  {
   "cell_type": "code",
   "execution_count": 70,
   "metadata": {},
   "outputs": [
    {
     "name": "stdout",
     "output_type": "stream",
     "text": [
      "Approximating integral for delta_t = 0.08 seconds\n"
     ]
    },
    {
     "data": {
      "image/png": "[encoded data removed]",
      "text/plain": [
       "<Figure size 432x288 with 1 Axes>"
      ]
     },
     "metadata": {
      "needs_background": "light"
     },
     "output_type": "display_data"
    }
   ],
   "source": [
    "show_approximate_integral(f3, 3, 7, 50)"
   ]
  }
 ],
 "metadata": {
  "kernelspec": {
   "display_name": "Python 3",
   "language": "python",
   "name": "python3"
  },
  "language_info": {
   "codemirror_mode": {
    "name": "ipython",
    "version": 3
   },
   "file_extension": ".py",
   "mimetype": "text/x-python",
   "name": "python",
   "nbconvert_exporter": "python",
   "pygments_lexer": "ipython3",
   "version": "3.6.13"
  }
 },
 "nbformat": 4,
 "nbformat_minor": 2
}
